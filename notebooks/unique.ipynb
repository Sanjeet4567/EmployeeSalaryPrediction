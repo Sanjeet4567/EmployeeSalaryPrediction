{
 "cells": [
  {
   "cell_type": "code",
   "execution_count": 10,
   "id": "1ce2cfd6",
   "metadata": {},
   "outputs": [],
   "source": [
    "import pandas as pd"
   ]
  },
  {
   "cell_type": "code",
   "execution_count": 11,
   "id": "bf61a10e",
   "metadata": {},
   "outputs": [
    {
     "name": "stdout",
     "output_type": "stream",
     "text": [
      "(46720, 15)\n",
      "   age  workclass  fnlwgt     education  educational-num      marital-status  \\\n",
      "0   25    Private  226802          11th                7       Never-married   \n",
      "1   38    Private   89814       HS-grad                9  Married-civ-spouse   \n",
      "2   28  Local-gov  336951    Assoc-acdm               12  Married-civ-spouse   \n",
      "3   44    Private  160323  Some-college               10  Married-civ-spouse   \n",
      "4   18     Others  103497  Some-college               10       Never-married   \n",
      "\n",
      "          occupation relationship   race  gender  capital-gain  capital-loss  \\\n",
      "0  Machine-op-inspct    Own-child  Black    Male             0             0   \n",
      "1    Farming-fishing      Husband  White    Male             0             0   \n",
      "2    Protective-serv      Husband  White    Male             0             0   \n",
      "3  Machine-op-inspct      Husband  Black    Male          7688             0   \n",
      "4             Others    Own-child  White  Female             0             0   \n",
      "\n",
      "   hours-per-week native-country  income  \n",
      "0              40  United-States       0  \n",
      "1              50  United-States       0  \n",
      "2              40  United-States       1  \n",
      "3              40  United-States       1  \n",
      "4              30  United-States       0  \n"
     ]
    }
   ],
   "source": [
    "df=pd.read_csv('./data/processed_salary_dataset.csv')\n",
    "print(df.shape)\n",
    "print(df.head())"
   ]
  },
  {
   "cell_type": "code",
   "execution_count": 12,
   "id": "03965bee",
   "metadata": {},
   "outputs": [
    {
     "name": "stdout",
     "output_type": "stream",
     "text": [
      "workclass: ['Private' 'Local-gov' 'Others' 'Self-emp-not-inc' 'Federal-gov'\n",
      " 'State-gov' 'Self-emp-inc']\n",
      "\n",
      "education: ['11th' 'HS-grad' 'Assoc-acdm' 'Some-college' '10th' 'Prof-school'\n",
      " 'Bachelors' 'Masters' 'Doctorate' 'Assoc-voc' '9th' '12th']\n",
      "\n",
      "marital-status: ['Never-married' 'Married-civ-spouse' 'Widowed' 'Separated' 'Divorced'\n",
      " 'Married-spouse-absent' 'Married-AF-spouse']\n",
      "\n",
      "occupation: ['Machine-op-inspct' 'Farming-fishing' 'Protective-serv' 'Others'\n",
      " 'Other-service' 'Prof-specialty' 'Adm-clerical' 'Exec-managerial'\n",
      " 'Tech-support' 'Craft-repair' 'Sales' 'Transport-moving'\n",
      " 'Priv-house-serv' 'Handlers-cleaners' 'Armed-Forces']\n",
      "\n",
      "relationship: ['Own-child' 'Husband' 'Not-in-family' 'Unmarried' 'Wife' 'Other-relative']\n",
      "\n",
      "race: ['Black' 'White' 'Asian-Pac-Islander' 'Other' 'Amer-Indian-Eskimo']\n",
      "\n",
      "gender: ['Male' 'Female']\n",
      "\n",
      "native-country: ['United-States' 'Others' 'Peru' 'Mexico' 'Dominican-Republic' 'Ireland'\n",
      " 'Germany' 'Philippines' 'Thailand' 'Haiti' 'El-Salvador' 'Puerto-Rico'\n",
      " 'Vietnam' 'South' 'Columbia' 'Japan' 'India' 'Cambodia' 'Poland'\n",
      " 'England' 'Cuba' 'Taiwan' 'Italy' 'Canada' 'China' 'Nicaragua' 'Honduras'\n",
      " 'Iran' 'Guatemala' 'Scotland' 'Jamaica' 'Portugal' 'Ecuador' 'Yugoslavia'\n",
      " 'Hungary' 'Hong' 'Greece' 'Trinadad&Tobago' 'Outlying-US(Guam-USVI-etc)'\n",
      " 'France' 'Laos' 'Holand-Netherlands']\n",
      "\n"
     ]
    }
   ],
   "source": [
    "categorical_cols = df.select_dtypes(include='object').columns\n",
    "unique_values = {col: df[col].unique() for col in categorical_cols}\n",
    "for col, values in unique_values.items():\n",
    "    print(f\"{col}: {values}\\n\")"
   ]
  },
  {
   "cell_type": "code",
   "execution_count": 13,
   "id": "3dcb4f42",
   "metadata": {},
   "outputs": [
    {
     "name": "stdout",
     "output_type": "stream",
     "text": [
      "['age', 'fnlwgt', 'educational-num', 'capital-gain', 'capital-loss', 'hours-per-week', 'income']\n"
     ]
    }
   ],
   "source": [
    "numerical_cols = [col for col in df.columns if col not in categorical_cols]\n",
    "print(numerical_cols)"
   ]
  },
  {
   "cell_type": "code",
   "execution_count": 14,
   "id": "625593dc",
   "metadata": {},
   "outputs": [
    {
     "name": "stdout",
     "output_type": "stream",
     "text": [
      "age: min=17, max=75\n",
      "fnlwgt: min=12285, max=1490400\n",
      "educational-num: min=5, max=16\n",
      "capital-gain: min=0, max=99999\n",
      "capital-loss: min=0, max=4356\n",
      "hours-per-week: min=1, max=99\n",
      "income: min=0, max=1\n"
     ]
    }
   ],
   "source": [
    "min_max_values = {col: (df[col].min(), df[col].max()) for col in numerical_cols}\n",
    "for col, (min_val, max_val) in min_max_values.items():\n",
    "    print(f\"{col}: min={min_val}, max={max_val}\")"
   ]
  }
 ],
 "metadata": {
  "kernelspec": {
   "display_name": "venv3",
   "language": "python",
   "name": "python3"
  },
  "language_info": {
   "codemirror_mode": {
    "name": "ipython",
    "version": 3
   },
   "file_extension": ".py",
   "mimetype": "text/x-python",
   "name": "python",
   "nbconvert_exporter": "python",
   "pygments_lexer": "ipython3",
   "version": "3.12.3"
  }
 },
 "nbformat": 4,
 "nbformat_minor": 5
}
